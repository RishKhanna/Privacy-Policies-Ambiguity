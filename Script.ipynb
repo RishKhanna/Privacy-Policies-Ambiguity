{
 "cells": [
  {
   "cell_type": "code",
   "execution_count": 1,
   "metadata": {},
   "outputs": [],
   "source": [
    "import pandas as pd\n",
    "import os\n",
    "import functions"
   ]
  },
  {
   "cell_type": "raw",
   "metadata": {},
   "source": [
    "Generates the distrubution for all .txt files in the folder 'New Folder With Items'\n",
    "and prints it in the final output."
   ]
  },
  {
   "cell_type": "code",
   "execution_count": 2,
   "metadata": {},
   "outputs": [],
   "source": [
    "Path = \"./New Folder With Items/\"\n",
    "filelist = os.listdir(Path)\n",
    "txt_files = []\n",
    "file_names = []\n",
    "for i in filelist:\n",
    "    if i.endswith(\".txt\"):\n",
    "        file_names.append(i)\n",
    "        with open(Path + i, 'r') as f:\n",
    "            txt_files.append(f.read())"
   ]
  },
  {
   "cell_type": "code",
   "execution_count": 3,
   "metadata": {},
   "outputs": [],
   "source": [
    "preprocessed_files = [ functions.preprocess_text(i) for i in txt_files ]"
   ]
  },
  {
   "cell_type": "code",
   "execution_count": 4,
   "metadata": {},
   "outputs": [],
   "source": [
    "distrubutions = [functions.generate_distrubution(i) for i in preprocessed_files]"
   ]
  },
  {
   "cell_type": "code",
   "execution_count": 5,
   "metadata": {
    "scrolled": true
   },
   "outputs": [],
   "source": [
    "Df = pd.DataFrame(distrubutions,\n",
    "                  columns=['Condition', 'Generalization',\n",
    "                        'Modality', 'Numeric quantifier', 'Num Vague Terms'],\n",
    "                 index = file_names)\n",
    "Df[Df['Num Vague Terms']!=0].to_csv('./Distrubution.csv')\n",
    "Df[Df['Num Vague Terms']==0].to_csv('./No_Terms.csv')"
    "Df["Name"] = Df.index"
    "Df["Name"] = Df["Name"].map(lambda x: str(x)[:-4])"
    "Df["Name"]= Df["Name"].str.replace("-"," ")"
     "Df["Name"]= Df["Name"].str.replace(","," ")"
     "Df.set_index('Name')"
   ]
  },
  {
   "cell_type": "code",
   "execution_count": 6,
   "metadata": {},
   "outputs": [
    {
     "data": {
      "text/html": [
       "<div>\n",
       "<style scoped>\n",
       "    .dataframe tbody tr th:only-of-type {\n",
       "        vertical-align: middle;\n",
       "    }\n",
       "\n",
       "    .dataframe tbody tr th {\n",
       "        vertical-align: top;\n",
       "    }\n",
       "\n",
       "    .dataframe thead th {\n",
       "        text-align: right;\n",
       "    }\n",
       "</style>\n",
       "<table border=\"1\" class=\"dataframe\">\n",
       "  <thead>\n",
       "    <tr style=\"text-align: right;\">\n",
       "      <th></th>\n",
       "      <th>Condition</th>\n",
       "      <th>Generalization</th>\n",
       "      <th>Modality</th>\n",
       "      <th>Numeric quantifier</th>\n",
       "      <th>Num Vague Terms</th>\n",
       "    </tr>\n",
       "  </thead>\n",
       "  <tbody>\n",
       "    <tr>\n",
       "      <th>BYJU'S–TheLearningApp.txt</th>\n",
       "      <td>7.920792</td>\n",
       "      <td>2.970297</td>\n",
       "      <td>64.356436</td>\n",
       "      <td>24.752475</td>\n",
       "      <td>101</td>\n",
       "    </tr>\n",
       "    <tr>\n",
       "      <th>FLStudioMobile.txt</th>\n",
       "      <td>0.000000</td>\n",
       "      <td>0.000000</td>\n",
       "      <td>100.000000</td>\n",
       "      <td>0.000000</td>\n",
       "      <td>3</td>\n",
       "    </tr>\n",
       "    <tr>\n",
       "      <th>RhythmwithTabla&amp;TanpuraPREMIUM.txt</th>\n",
       "      <td>12.500000</td>\n",
       "      <td>6.250000</td>\n",
       "      <td>50.000000</td>\n",
       "      <td>31.250000</td>\n",
       "      <td>16</td>\n",
       "    </tr>\n",
       "    <tr>\n",
       "      <th>CryptoTabBrowserPro—mineonaPROlevel.txt</th>\n",
       "      <td>11.111111</td>\n",
       "      <td>0.000000</td>\n",
       "      <td>77.777778</td>\n",
       "      <td>11.111111</td>\n",
       "      <td>9</td>\n",
       "    </tr>\n",
       "    <tr>\n",
       "      <th>KWGTKustomWidgetProKey.txt</th>\n",
       "      <td>11.764706</td>\n",
       "      <td>5.882353</td>\n",
       "      <td>47.058824</td>\n",
       "      <td>35.294118</td>\n",
       "      <td>17</td>\n",
       "    </tr>\n",
       "    <tr>\n",
       "      <th>...</th>\n",
       "      <td>...</td>\n",
       "      <td>...</td>\n",
       "      <td>...</td>\n",
       "      <td>...</td>\n",
       "      <td>...</td>\n",
       "    </tr>\n",
       "    <tr>\n",
       "      <th>RAM&amp;GameBoosterbyAugustro(67%OFF).txt</th>\n",
       "      <td>8.695652</td>\n",
       "      <td>4.347826</td>\n",
       "      <td>52.173913</td>\n",
       "      <td>34.782609</td>\n",
       "      <td>23</td>\n",
       "    </tr>\n",
       "    <tr>\n",
       "      <th>SDMaidPro-Unlocker.txt</th>\n",
       "      <td>0.000000</td>\n",
       "      <td>7.142857</td>\n",
       "      <td>21.428571</td>\n",
       "      <td>71.428571</td>\n",
       "      <td>14</td>\n",
       "    </tr>\n",
       "    <tr>\n",
       "      <th>FlipkartOnlineShoppingApp.txt</th>\n",
       "      <td>9.090909</td>\n",
       "      <td>3.636364</td>\n",
       "      <td>65.454545</td>\n",
       "      <td>21.818182</td>\n",
       "      <td>55</td>\n",
       "    </tr>\n",
       "    <tr>\n",
       "      <th>FacebookLite.txt</th>\n",
       "      <td>6.493506</td>\n",
       "      <td>3.896104</td>\n",
       "      <td>80.519481</td>\n",
       "      <td>9.090909</td>\n",
       "      <td>77</td>\n",
       "    </tr>\n",
       "    <tr>\n",
       "      <th>WhatsAppBusiness.txt</th>\n",
       "      <td>7.042254</td>\n",
       "      <td>5.633803</td>\n",
       "      <td>63.380282</td>\n",
       "      <td>23.943662</td>\n",
       "      <td>71</td>\n",
       "    </tr>\n",
       "  </tbody>\n",
       "</table>\n",
       "<p>75 rows × 5 columns</p>\n",
       "</div>"
      ],
      "text/plain": [
       "                                         Condition  Generalization  \\\n",
       "BYJU'S–TheLearningApp.txt                 7.920792        2.970297   \n",
       "FLStudioMobile.txt                        0.000000        0.000000   \n",
       "RhythmwithTabla&TanpuraPREMIUM.txt       12.500000        6.250000   \n",
       "CryptoTabBrowserPro—mineonaPROlevel.txt  11.111111        0.000000   \n",
       "KWGTKustomWidgetProKey.txt               11.764706        5.882353   \n",
       "...                                            ...             ...   \n",
       "RAM&GameBoosterbyAugustro(67%OFF).txt     8.695652        4.347826   \n",
       "SDMaidPro-Unlocker.txt                    0.000000        7.142857   \n",
       "FlipkartOnlineShoppingApp.txt             9.090909        3.636364   \n",
       "FacebookLite.txt                          6.493506        3.896104   \n",
       "WhatsAppBusiness.txt                      7.042254        5.633803   \n",
       "\n",
       "                                           Modality  Numeric quantifier  \\\n",
       "BYJU'S–TheLearningApp.txt                 64.356436           24.752475   \n",
       "FLStudioMobile.txt                       100.000000            0.000000   \n",
       "RhythmwithTabla&TanpuraPREMIUM.txt        50.000000           31.250000   \n",
       "CryptoTabBrowserPro—mineonaPROlevel.txt   77.777778           11.111111   \n",
       "KWGTKustomWidgetProKey.txt                47.058824           35.294118   \n",
       "...                                             ...                 ...   \n",
       "RAM&GameBoosterbyAugustro(67%OFF).txt     52.173913           34.782609   \n",
       "SDMaidPro-Unlocker.txt                    21.428571           71.428571   \n",
       "FlipkartOnlineShoppingApp.txt             65.454545           21.818182   \n",
       "FacebookLite.txt                          80.519481            9.090909   \n",
       "WhatsAppBusiness.txt                      63.380282           23.943662   \n",
       "\n",
       "                                         Num Vague Terms  \n",
       "BYJU'S–TheLearningApp.txt                            101  \n",
       "FLStudioMobile.txt                                     3  \n",
       "RhythmwithTabla&TanpuraPREMIUM.txt                    16  \n",
       "CryptoTabBrowserPro—mineonaPROlevel.txt                9  \n",
       "KWGTKustomWidgetProKey.txt                            17  \n",
       "...                                                  ...  \n",
       "RAM&GameBoosterbyAugustro(67%OFF).txt                 23  \n",
       "SDMaidPro-Unlocker.txt                                14  \n",
       "FlipkartOnlineShoppingApp.txt                         55  \n",
       "FacebookLite.txt                                      77  \n",
       "WhatsAppBusiness.txt                                  71  \n",
       "\n",
       "[75 rows x 5 columns]"
      ]
     },
     "execution_count": 6,
     "metadata": {},
     "output_type": "execute_result"
    }
   ],
   "source": [
    "Df[ Df['Num Vague Terms']!=0 ]"
   ]
  },
  {
   "cell_type": "code",
   "execution_count": 7,
   "metadata": {},
   "outputs": [
    {
     "name": "stdout",
     "output_type": "stream",
     "text": [
      "OVERALL AVERAGE\n",
      "Condition :  10.313175544609608\n",
      "Generalization :  3.0002276178516705\n",
      "Modality :  66.5122422239555\n",
      "Numeric quantifier :  20.174354613583226\n",
      "Num Vague Terms :  48.86666666666667\n"
     ]
    }
   ],
   "source": [
    "print(\"OVERALL AVERAGE\")\n",
    "for i in Df:\n",
    "    print(i, \": \", Df[Df['Num Vague Terms'] != 0][i].mean())"
   ]
  }
 ],
 "metadata": {
  "kernelspec": {
   "display_name": "Python 3",
   "language": "python",
   "name": "python3"
  },
  "language_info": {
   "codemirror_mode": {
    "name": "ipython",
    "version": 3
   },
   "file_extension": ".py",
   "mimetype": "text/x-python",
   "name": "python",
   "nbconvert_exporter": "python",
   "pygments_lexer": "ipython3",
   "version": "3.8.3"
  }
 },
 "nbformat": 4,
 "nbformat_minor": 4
}
