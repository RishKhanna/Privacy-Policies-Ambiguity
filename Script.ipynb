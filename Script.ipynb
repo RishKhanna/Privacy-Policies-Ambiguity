{
 "cells": [
  {
   "cell_type": "code",
   "execution_count": 2,
   "metadata": {},
   "outputs": [],
   "source": [
    "import pandas as pd\n",
    "import os\n",
    "import functions\n",
    "import seaborn as sns\n"
   ]
  },
  {
   "cell_type": "raw",
   "metadata": {},
   "source": [
    "Generates the distrubution for all .txt files in the folder 'New Folder With Items'\n",
    "and prints it in the final output."
   ]
  },
  {
   "cell_type": "code",
   "execution_count": 3,
   "metadata": {},
   "outputs": [
    {
     "name": "stdout",
     "output_type": "stream",
     "text": [
      "[1672, 3511, 3999, 3845, 3921]\n"
     ]
    }
   ],
   "source": [
    "\n",
    "Path = \"./New Folder With Items/\"\n",
    "filelist = os.listdir(Path)\n",
    "txt_files = []\n",
    "file_names = []\n",
    "num =[]\n",
    "for i in filelist:\n",
    "    if i.endswith(\".txt\"):\n",
    "        file_names.append(i)\n",
    "        with open(Path + i, 'r', encoding='utf8') as f:\n",
    "            data = f.read()\n",
    "            txt_files.append(data)\n",
    "            words = data.split()\n",
    "            num.append(len(words))\n",
    "print(num)\n",
    "           "
   ]
  },
  {
   "cell_type": "code",
   "execution_count": 4,
   "metadata": {},
   "outputs": [],
   "source": [
    "preprocessed_files = [ functions.preprocess_text(i) for i in txt_files ]"
   ]
  },
  {
   "cell_type": "code",
   "execution_count": 5,
   "metadata": {},
   "outputs": [],
   "source": [
    "distrubutions = [functions.generate_distrubution(i) for i in preprocessed_files]"
   ]
  },
  {
   "cell_type": "code",
   "execution_count": 6,
   "metadata": {
    "scrolled": true
   },
   "outputs": [],
   "source": [
    "Df = pd.DataFrame(distrubutions,\n",
    "                  columns=['Condition', 'Generalization',\n",
    "                        'Modality', 'Numeric quantifier', 'Num Vague Terms'],\n",
    "                 index = file_names)\n",
    "Df[Df['Num Vague Terms']!=0].to_csv('./Distrubution.csv')\n",
    "Df[Df['Num Vague Terms']==0].to_csv('./No_Terms.csv')"
   ]
  },
  {
   "cell_type": "code",
   "execution_count": 7,
   "metadata": {},
   "outputs": [],
   "source": [
    "Df[ Df['Num Vague Terms']!=0 ]\n",
    "Df[\"Name\"] = Df.index\n",
    "Df[\"Name\"] = Df[\"Name\"].map(lambda x: str(x)[:-4])\n",
    "Df[\"Name\"]= Df[\"Name\"].str.replace(\"-\",\" \")\n",
    "Df[\"Name\"]= Df[\"Name\"].str.replace(\",\",\" \")\n",
    "Df = Df.set_index(\"Name\")"
   ]
  },
  {
   "cell_type": "code",
   "execution_count": 8,
   "metadata": {},
   "outputs": [
    {
     "name": "stdout",
     "output_type": "stream",
     "text": [
      "OVERALL AVERAGE\n",
      "Condition :  6.620544574104946\n",
      "Generalization :  2.326426927046122\n",
      "Modality :  67.69992855441771\n",
      "Numeric quantifier :  23.353099944431214\n",
      "Num Vague Terms :  64.8\n"
     ]
    }
   ],
   "source": [
    "print(\"OVERALL AVERAGE\")\n",
    "for i in Df:\n",
    "    print(i, \": \", Df[Df['Num Vague Terms'] != 0][i].mean())"
   ]
  },
  {
   "cell_type": "code",
   "execution_count": 9,
   "metadata": {},
   "outputs": [
    {
     "data": {
      "text/plain": [
       "Index(['AirtelThanks Recharge BillPay Bank LiveTV',\n",
       "       'AJIOOnlineShopping HandpickedCuratedFashion', 'AmazonPrimeVideo',\n",
       "       'AmazonShopping UPI MoneyTransfer BillPayment',\n",
       "       'Biugo videomaker photovideomaker videoeditor'],\n",
       "      dtype='object', name='Name')"
      ]
     },
     "execution_count": 9,
     "metadata": {},
     "output_type": "execute_result"
    }
   ],
   "source": [
    "Df.index"
   ]
  },
  {
   "cell_type": "code",
   "execution_count": 10,
   "metadata": {},
   "outputs": [],
   "source": [
    "Df[\"Name\"] = Df.index\n",
    "Df[\"Name\"] = Df[\"Name\"].map(lambda x: str(x)[:-4])\n",
    "Df[\"Name\"]= Df[\"Name\"].str.replace(\"-\",\" \")\n",
    "Df[\"Name\"]= Df[\"Name\"].str.replace(\",\",\" \")\n",
    "\n"
   ]
  },
  {
   "cell_type": "code",
   "execution_count": 11,
   "metadata": {},
   "outputs": [
    {
     "data": {
      "text/html": [
       "<div>\n",
       "<style scoped>\n",
       "    .dataframe tbody tr th:only-of-type {\n",
       "        vertical-align: middle;\n",
       "    }\n",
       "\n",
       "    .dataframe tbody tr th {\n",
       "        vertical-align: top;\n",
       "    }\n",
       "\n",
       "    .dataframe thead th {\n",
       "        text-align: right;\n",
       "    }\n",
       "</style>\n",
       "<table border=\"1\" class=\"dataframe\">\n",
       "  <thead>\n",
       "    <tr style=\"text-align: right;\">\n",
       "      <th></th>\n",
       "      <th>Condition</th>\n",
       "      <th>Generalization</th>\n",
       "      <th>Modality</th>\n",
       "      <th>Numeric quantifier</th>\n",
       "      <th>Num Vague Terms</th>\n",
       "      <th>Name</th>\n",
       "    </tr>\n",
       "    <tr>\n",
       "      <th>Name</th>\n",
       "      <th></th>\n",
       "      <th></th>\n",
       "      <th></th>\n",
       "      <th></th>\n",
       "      <th></th>\n",
       "      <th></th>\n",
       "    </tr>\n",
       "  </thead>\n",
       "  <tbody>\n",
       "    <tr>\n",
       "      <th>AirtelThanks Recharge BillPay Bank LiveTV</th>\n",
       "      <td>5.128205</td>\n",
       "      <td>0.000000</td>\n",
       "      <td>82.051282</td>\n",
       "      <td>12.820513</td>\n",
       "      <td>39</td>\n",
       "      <td>AirtelThanks Recharge BillPay Bank Li</td>\n",
       "    </tr>\n",
       "    <tr>\n",
       "      <th>AJIOOnlineShopping HandpickedCuratedFashion</th>\n",
       "      <td>5.263158</td>\n",
       "      <td>3.508772</td>\n",
       "      <td>75.438596</td>\n",
       "      <td>15.789474</td>\n",
       "      <td>57</td>\n",
       "      <td>AJIOOnlineShopping HandpickedCuratedFas</td>\n",
       "    </tr>\n",
       "    <tr>\n",
       "      <th>AmazonPrimeVideo</th>\n",
       "      <td>4.411765</td>\n",
       "      <td>2.941176</td>\n",
       "      <td>58.823529</td>\n",
       "      <td>33.823529</td>\n",
       "      <td>68</td>\n",
       "      <td>AmazonPrimeV</td>\n",
       "    </tr>\n",
       "    <tr>\n",
       "      <th>AmazonShopping UPI MoneyTransfer BillPayment</th>\n",
       "      <td>4.615385</td>\n",
       "      <td>3.076923</td>\n",
       "      <td>56.923077</td>\n",
       "      <td>35.384615</td>\n",
       "      <td>65</td>\n",
       "      <td>AmazonShopping UPI MoneyTransfer BillPay</td>\n",
       "    </tr>\n",
       "    <tr>\n",
       "      <th>Biugo videomaker photovideomaker videoeditor</th>\n",
       "      <td>13.684211</td>\n",
       "      <td>2.105263</td>\n",
       "      <td>65.263158</td>\n",
       "      <td>18.947368</td>\n",
       "      <td>95</td>\n",
       "      <td>Biugo videomaker photovideomaker videoed</td>\n",
       "    </tr>\n",
       "  </tbody>\n",
       "</table>\n",
       "</div>"
      ],
      "text/plain": [
       "                                              Condition  Generalization  \\\n",
       "Name                                                                      \n",
       "AirtelThanks Recharge BillPay Bank LiveTV      5.128205        0.000000   \n",
       "AJIOOnlineShopping HandpickedCuratedFashion    5.263158        3.508772   \n",
       "AmazonPrimeVideo                               4.411765        2.941176   \n",
       "AmazonShopping UPI MoneyTransfer BillPayment   4.615385        3.076923   \n",
       "Biugo videomaker photovideomaker videoeditor  13.684211        2.105263   \n",
       "\n",
       "                                               Modality  Numeric quantifier  \\\n",
       "Name                                                                          \n",
       "AirtelThanks Recharge BillPay Bank LiveTV     82.051282           12.820513   \n",
       "AJIOOnlineShopping HandpickedCuratedFashion   75.438596           15.789474   \n",
       "AmazonPrimeVideo                              58.823529           33.823529   \n",
       "AmazonShopping UPI MoneyTransfer BillPayment  56.923077           35.384615   \n",
       "Biugo videomaker photovideomaker videoeditor  65.263158           18.947368   \n",
       "\n",
       "                                              Num Vague Terms  \\\n",
       "Name                                                            \n",
       "AirtelThanks Recharge BillPay Bank LiveTV                  39   \n",
       "AJIOOnlineShopping HandpickedCuratedFashion                57   \n",
       "AmazonPrimeVideo                                           68   \n",
       "AmazonShopping UPI MoneyTransfer BillPayment               65   \n",
       "Biugo videomaker photovideomaker videoeditor               95   \n",
       "\n",
       "                                                                                  Name  \n",
       "Name                                                                                    \n",
       "AirtelThanks Recharge BillPay Bank LiveTV        AirtelThanks Recharge BillPay Bank Li  \n",
       "AJIOOnlineShopping HandpickedCuratedFashion    AJIOOnlineShopping HandpickedCuratedFas  \n",
       "AmazonPrimeVideo                                                          AmazonPrimeV  \n",
       "AmazonShopping UPI MoneyTransfer BillPayment  AmazonShopping UPI MoneyTransfer BillPay  \n",
       "Biugo videomaker photovideomaker videoeditor  Biugo videomaker photovideomaker videoed  "
      ]
     },
     "execution_count": 11,
     "metadata": {},
     "output_type": "execute_result"
    }
   ],
   "source": [
    "Df"
   ]
  },
  {
   "cell_type": "code",
   "execution_count": 12,
   "metadata": {},
   "outputs": [],
   "source": [
    "Df['Num'] = num"
   ]
  },
  {
   "cell_type": "code",
   "execution_count": 61,
   "metadata": {},
   "outputs": [
    {
     "data": {
      "text/html": [
       "<div>\n",
       "<style scoped>\n",
       "    .dataframe tbody tr th:only-of-type {\n",
       "        vertical-align: middle;\n",
       "    }\n",
       "\n",
       "    .dataframe tbody tr th {\n",
       "        vertical-align: top;\n",
       "    }\n",
       "\n",
       "    .dataframe thead th {\n",
       "        text-align: right;\n",
       "    }\n",
       "</style>\n",
       "<table border=\"1\" class=\"dataframe\">\n",
       "  <thead>\n",
       "    <tr style=\"text-align: right;\">\n",
       "      <th></th>\n",
       "      <th>Condition</th>\n",
       "      <th>Generalization</th>\n",
       "      <th>Modality</th>\n",
       "      <th>Numeric quantifier</th>\n",
       "      <th>Num Vague Terms</th>\n",
       "      <th>Num</th>\n",
       "      <th>Name</th>\n",
       "    </tr>\n",
       "    <tr>\n",
       "      <th>Name</th>\n",
       "      <th></th>\n",
       "      <th></th>\n",
       "      <th></th>\n",
       "      <th></th>\n",
       "      <th></th>\n",
       "      <th></th>\n",
       "      <th></th>\n",
       "    </tr>\n",
       "  </thead>\n",
       "  <tbody>\n",
       "    <tr>\n",
       "      <th>AirtelThanks Recharge BillPay Bank Li</th>\n",
       "      <td>5.128205</td>\n",
       "      <td>0.000000</td>\n",
       "      <td>82.051282</td>\n",
       "      <td>12.820513</td>\n",
       "      <td>39</td>\n",
       "      <td>1672</td>\n",
       "      <td>AirtelThanks Recharge BillPay Ban</td>\n",
       "    </tr>\n",
       "    <tr>\n",
       "      <th>AJIOOnlineShopping HandpickedCuratedFas</th>\n",
       "      <td>5.263158</td>\n",
       "      <td>3.508772</td>\n",
       "      <td>75.438596</td>\n",
       "      <td>15.789474</td>\n",
       "      <td>57</td>\n",
       "      <td>3511</td>\n",
       "      <td>AJIOOnlineShopping HandpickedCurate</td>\n",
       "    </tr>\n",
       "    <tr>\n",
       "      <th>AmazonPrimeV</th>\n",
       "      <td>4.411765</td>\n",
       "      <td>2.941176</td>\n",
       "      <td>58.823529</td>\n",
       "      <td>33.823529</td>\n",
       "      <td>68</td>\n",
       "      <td>3999</td>\n",
       "      <td>AmazonPr</td>\n",
       "    </tr>\n",
       "    <tr>\n",
       "      <th>AmazonShopping UPI MoneyTransfer BillPay</th>\n",
       "      <td>4.615385</td>\n",
       "      <td>3.076923</td>\n",
       "      <td>56.923077</td>\n",
       "      <td>35.384615</td>\n",
       "      <td>65</td>\n",
       "      <td>3845</td>\n",
       "      <td>AmazonShopping UPI MoneyTransfer Bil</td>\n",
       "    </tr>\n",
       "    <tr>\n",
       "      <th>Biugo videomaker photovideomaker videoed</th>\n",
       "      <td>13.684211</td>\n",
       "      <td>2.105263</td>\n",
       "      <td>65.263158</td>\n",
       "      <td>18.947368</td>\n",
       "      <td>95</td>\n",
       "      <td>3921</td>\n",
       "      <td>Biugo videomaker photovideomaker vid</td>\n",
       "    </tr>\n",
       "  </tbody>\n",
       "</table>\n",
       "</div>"
      ],
      "text/plain": [
       "                                          Condition  Generalization  \\\n",
       "Name                                                                  \n",
       "AirtelThanks Recharge BillPay Bank Li      5.128205        0.000000   \n",
       "AJIOOnlineShopping HandpickedCuratedFas    5.263158        3.508772   \n",
       "AmazonPrimeV                               4.411765        2.941176   \n",
       "AmazonShopping UPI MoneyTransfer BillPay   4.615385        3.076923   \n",
       "Biugo videomaker photovideomaker videoed  13.684211        2.105263   \n",
       "\n",
       "                                           Modality  Numeric quantifier  \\\n",
       "Name                                                                      \n",
       "AirtelThanks Recharge BillPay Bank Li     82.051282           12.820513   \n",
       "AJIOOnlineShopping HandpickedCuratedFas   75.438596           15.789474   \n",
       "AmazonPrimeV                              58.823529           33.823529   \n",
       "AmazonShopping UPI MoneyTransfer BillPay  56.923077           35.384615   \n",
       "Biugo videomaker photovideomaker videoed  65.263158           18.947368   \n",
       "\n",
       "                                          Num Vague Terms   Num  \\\n",
       "Name                                                              \n",
       "AirtelThanks Recharge BillPay Bank Li                  39  1672   \n",
       "AJIOOnlineShopping HandpickedCuratedFas                57  3511   \n",
       "AmazonPrimeV                                           68  3999   \n",
       "AmazonShopping UPI MoneyTransfer BillPay               65  3845   \n",
       "Biugo videomaker photovideomaker videoed               95  3921   \n",
       "\n",
       "                                                                          Name  \n",
       "Name                                                                            \n",
       "AirtelThanks Recharge BillPay Bank Li        AirtelThanks Recharge BillPay Ban  \n",
       "AJIOOnlineShopping HandpickedCuratedFas    AJIOOnlineShopping HandpickedCurate  \n",
       "AmazonPrimeV                                                          AmazonPr  \n",
       "AmazonShopping UPI MoneyTransfer BillPay  AmazonShopping UPI MoneyTransfer Bil  \n",
       "Biugo videomaker photovideomaker videoed  Biugo videomaker photovideomaker vid  "
      ]
     },
     "execution_count": 61,
     "metadata": {},
     "output_type": "execute_result"
    }
   ],
   "source": [
    "Df"
   ]
  },
  {
   "cell_type": "code",
   "execution_count": 75,
   "metadata": {},
   "outputs": [
    {
     "name": "stdout",
     "output_type": "stream",
     "text": [
      " Volume in drive C is OS\n",
      " Volume Serial Number is 7073-A0D4\n",
      "\n",
      " Directory of C:\\Users\\clift\\Documents\\GitHub\\Privacy-Policies-Ambiguity\n",
      "\n",
      "02-05-2021  01.03 AM    <DIR>          .\n",
      "02-05-2021  01.03 AM    <DIR>          ..\n",
      "15-04-2021  04.57 PM    <DIR>          .ipynb_checkpoints\n",
      "25-04-2021  04.44 PM    <DIR>          __pycache__\n",
      "24-03-2021  08.30 PM             1,392 app.py\n",
      "02-05-2021  12.37 AM               659 Distrubution.csv\n",
      "24-03-2021  08.30 PM             3,922 functions.py\n",
      "24-03-2021  08.30 PM    <DIR>          New Folder With Items\n",
      "02-05-2021  12.37 AM                71 No_Terms.csv\n",
      "02-05-2021  12.58 AM             3,156 PolicyCats.csv\n",
      "24-03-2021  08.30 PM            29,067 queries.json\n",
      "02-05-2021  01.03 AM            24,204 Script.ipynb\n",
      "24-03-2021  08.30 PM           346,664 skillport.png\n",
      "01-05-2021  08.17 PM             8,007 Streamlit.py\n",
      "               9 File(s)        417,142 bytes\n",
      "               5 Dir(s)   6,309,654,528 bytes free\n"
     ]
    }
   ],
   "source": [
    "%ls"
   ]
  },
  {
   "cell_type": "code",
   "execution_count": 38,
   "metadata": {},
   "outputs": [],
   "source": [
    "cat= pd.read_csv(\"PolicyCats.csv\" )"
   ]
  },
  {
   "cell_type": "code",
   "execution_count": 39,
   "metadata": {},
   "outputs": [],
   "source": [
    "plot = cat['Category'].value_counts()"
   ]
  },
  {
   "cell_type": "code",
   "execution_count": 72,
   "metadata": {},
   "outputs": [],
   "source": [
    "plot = pd.DataFrame(plot)"
   ]
  },
  {
   "cell_type": "code",
   "execution_count": 83,
   "metadata": {},
   "outputs": [
    {
     "data": {
      "text/plain": [
       "<AxesSubplot:>"
      ]
     },
     "execution_count": 83,
     "metadata": {},
     "output_type": "execute_result"
    },
    {
     "data": {
      "image/png": "[encoded data removed]",
      "text/plain": [
       "<Figure size 1440x720 with 1 Axes>"
      ]
     },
     "metadata": {
      "needs_background": "light"
     },
     "output_type": "display_data"
    }
   ],
   "source": [
    "from matplotlib import pyplot as plt\n",
    "plt.figure(figsize=(20,10))\n",
    "cat.iloc[:, 1].hist(grid = False, bins = 25)\n"
   ]
  },
  {
   "cell_type": "code",
   "execution_count": 76,
   "metadata": {},
   "outputs": [
    {
     "data": {
      "text/plain": [
       "<AxesSubplot:>"
      ]
     },
     "execution_count": 76,
     "metadata": {},
     "output_type": "execute_result"
    },
    {
     "data": {
      "image/png": "[encoded data removed]",
      "text/plain": [
       "<Figure size 432x288 with 1 Axes>"
      ]
     },
     "metadata": {
      "needs_background": "light"
     },
     "output_type": "display_data"
    }
   ],
   "source": []
  },
  {
   "cell_type": "code",
   "execution_count": null,
   "metadata": {},
   "outputs": [],
   "source": []
  }
 ],
 "metadata": {
  "kernelspec": {
   "display_name": "Python 3",
   "language": "python",
   "name": "python3"
  },
  "language_info": {
   "codemirror_mode": {
    "name": "ipython",
    "version": 3
   },
   "file_extension": ".py",
   "mimetype": "text/x-python",
   "name": "python",
   "nbconvert_exporter": "python",
   "pygments_lexer": "ipython3",
   "version": "3.8.3"
  }
 },
 "nbformat": 4,
 "nbformat_minor": 4
}
